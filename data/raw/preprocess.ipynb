{
 "cells": [
  {
   "cell_type": "code",
   "execution_count": 7,
   "metadata": {},
   "outputs": [],
   "source": [
    "import re, string, html"
   ]
  },
  {
   "cell_type": "code",
   "execution_count": 106,
   "metadata": {},
   "outputs": [],
   "source": [
    "with open('../prepared/train2023.vi', 'r') as f:\n",
    "  content_vi = f.read()\n",
    "data_vi = content_vi.split('\\n')"
   ]
  },
  {
   "cell_type": "code",
   "execution_count": 107,
   "metadata": {},
   "outputs": [],
   "source": [
    "with open('../prepared/dev2023.lo', 'r') as f:\n",
    "  content_la = f.read()\n",
    "data_la = content_la.split('\\n')"
   ]
  },
  {
   "cell_type": "code",
   "execution_count": 108,
   "metadata": {},
   "outputs": [],
   "source": [
    "import numpy as np\n",
    "data_la = np.array(data_la)\n",
    "data_vi = np.array(data_vi)"
   ]
  },
  {
   "cell_type": "code",
   "execution_count": 112,
   "metadata": {},
   "outputs": [],
   "source": [
    "temp = [x for x,y in enumerate(data_vi) if len(y.split(' ')) > 100]"
   ]
  },
  {
   "cell_type": "code",
   "execution_count": 113,
   "metadata": {},
   "outputs": [],
   "source": [
    "t = np.delete(data_vi, temp)"
   ]
  },
  {
   "cell_type": "code",
   "execution_count": 115,
   "metadata": {},
   "outputs": [
    {
     "data": {
      "text/plain": [
       "array(['Nếu anh chị cảm thấy e ngại khi giới thiệu về tin mừng, hãy tập bắt chuyện mà không nhất thiết làm chứng.',\n",
       "       'Hẳn nhiều người thấp kém e sợ và tránh mặt những nhà lãnh đạo ấy, thay vì xin họ giúp đỡ hoặc chỉ dẫn.',\n",
       "       '21 Bấy giờ, khi hoàng hậu trông thấy vẻ kinh hãi của các tôi tớ, bà cũng cảm thấy sợ hãi vô cùng, e rằng điều dữ sẽ đến với bà.',\n",
       "       ..., 'Chào mừng bạn', 'Kế tiếp: Vườn ươm Chậu NP- 7Q', ''],\n",
       "      dtype='<U1412')"
      ]
     },
     "execution_count": 115,
     "metadata": {},
     "output_type": "execute_result"
    }
   ],
   "source": [
    "t"
   ]
  },
  {
   "cell_type": "code",
   "execution_count": null,
   "metadata": {},
   "outputs": [],
   "source": []
  }
 ],
 "metadata": {
  "kernelspec": {
   "display_name": "hieu",
   "language": "python",
   "name": "python3"
  },
  "language_info": {
   "codemirror_mode": {
    "name": "ipython",
    "version": 3
   },
   "file_extension": ".py",
   "mimetype": "text/x-python",
   "name": "python",
   "nbconvert_exporter": "python",
   "pygments_lexer": "ipython3",
   "version": "3.10.12"
  }
 },
 "nbformat": 4,
 "nbformat_minor": 2
}
